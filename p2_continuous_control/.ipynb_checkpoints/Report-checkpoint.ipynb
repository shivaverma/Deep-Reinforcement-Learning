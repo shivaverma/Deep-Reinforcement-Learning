{
 "cells": [
  {
   "cell_type": "markdown",
   "metadata": {
    "collapsed": true
   },
   "source": [
    "### Learning algorithm\n",
    "\n",
    "I used DQN algorithm for this project since we have discrete action space. \n",
    "\n",
    "### Network acrhitecture\n",
    "\n",
    "Actor Network:\n",
    "- Input layer of the network is of size 33 because there are 33 states.\n",
    "- Then there is 1 hidden layers of 256 unit\n",
    "- Output layer size is 4 because there are 4 actions.\n",
    "- Relu activation is used for hidden layer.\n",
    "- I tried to add dropout also on the layers but it did not seem to have much effect.\n",
    "- So the Actor network looks like.\n",
    "\n",
    "- [37]------>[24]------(Relu)------>[34]------(Relu)------>[4]\n",
    "\n",
    "### Hyperparameters\n",
    "\n",
    "I used following values for the hyperparameters:\n",
    "\n",
    "- TAU (for soft update of target parameters) = 0.01                \n",
    "- LR (learning rate)= 0.001                \n",
    "- GAMMA (discount factor) = 0.99              \n",
    "- P_DROP (dropout rate) = 0.3              \n",
    "- BATCH_SIZE (minibatch size) = 32           \n",
    "- UPDATE_EVERY (how often to update the network) = 4          \n",
    "- BUFFER_SIZE (replay buffer size) = 10000  \n",
    "\n",
    "### Reward plot\n",
    "\n",
    "![](reward_plot.png)\n",
    "\n",
    "- This plot is for 150 episodes. And after 40 episodes later agent receives rewards more then +13 most of the time. \n",
    "- Agnet learned the task pretty quickly. Agent starts to recieve high reward from the 20th episode. I would say it took 40 episode to solve the environment. \n",
    "\n",
    "### Ideas to improve the performance of the agent in future\n",
    "\n",
    "- We can use priority replay buffer. It might help in better performance.\n",
    "- In my network architecture dropout was not putting any effect. So if I change the network architecture then dropout might be useful there.\n",
    "- Adding Batch normalization might also help in better performance.\n",
    "- I tried my best to tune the huperparameters, but still I believe that by further tuning hyperparameters precisly, I can improve the performacnce. Same goes for neural network architecture."
   ]
  },
  {
   "cell_type": "code",
   "execution_count": null,
   "metadata": {},
   "outputs": [],
   "source": []
  }
 ],
 "metadata": {
  "kernelspec": {
   "display_name": "Python 3",
   "language": "python",
   "name": "python3"
  },
  "language_info": {
   "codemirror_mode": {
    "name": "ipython",
    "version": 3
   },
   "file_extension": ".py",
   "mimetype": "text/x-python",
   "name": "python",
   "nbconvert_exporter": "python",
   "pygments_lexer": "ipython3",
   "version": "3.6.4"
  }
 },
 "nbformat": 4,
 "nbformat_minor": 1
}
