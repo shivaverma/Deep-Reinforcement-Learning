{
 "cells": [
  {
   "cell_type": "markdown",
   "metadata": {
    "collapsed": true
   },
   "source": [
    "### Learning algorithm\n",
    "\n",
    "I used DDPG algorithm for this project since we have continuous action space.\n",
    "After each 5th time stamp, I am updating the network. And I am using just one agent out of 20 to update the network. I am selecting that one agent randomly each time. This strategy worked best for me.\n",
    "\n",
    "### Network acrhitecture\n",
    "\n",
    "Actor Network:\n",
    "- Input layer of the network is of size 33 because there are 33 states.\n",
    "- Then there is 1 hidden layers of 256 unit\n",
    "- Output layer size is 4 because there are 4 actions.\n",
    "- Relu activation is used for hidden layer.\n",
    "- I tried to add dropout also on the layers but it did not seem to have much effect.\n",
    "- So the Actor network looks like.\n",
    "\n",
    "\n",
    "[33]------>[256]------(Relu)------>[4]\n",
    "\n",
    "Critic Network:\n",
    "- There are three hidden layer in Critic.\n",
    "- These layer having 256, 256 and 128 units.\n",
    "- Output layer size is 1 which is value of the action-state pair.\n",
    "- Relu activation is used for hidden layer.\n",
    "- I tried to add dropout also on the layers but it did not seem to have much effect.\n",
    "- So the Critic network looks like.\n",
    "\n",
    "\n",
    "[33]----->[256]----(Relu)---->[4]\n",
    "\n",
    "[256 + 4]----(Relu)----->[128]----(Relu)---->[1]\n",
    "\n",
    "\n",
    "### Hyperparameters\n",
    "\n",
    "I used following values for the hyperparameters:\n",
    "\n",
    "- TAU (for soft update of target parameters) = 0.001                \n",
    "- LR-Actor (learning rate) = 0.0001\n",
    "- LR-Critic (learning rate) = 0.001\n",
    "- GAMMA (discount factor) = 0.99                           \n",
    "- BATCH_SIZE (minibatch size) = 64                   \n",
    "- BUFFER_SIZE (replay buffer size) = 1000000  \n",
    "\n",
    "### Reward plot\n",
    "\n",
    "![](reward_plot.png)\n",
    "\n",
    "- This plot is for [version-2].\n",
    "- This plot is for 250 episodes. And after 40 episodes later agent begin to stabelize. \n",
    "- Agnet learned the task pretty quickly. Agent starts to recieve high reward from the 40th episode. I would say it took 40 episode to solve the environment. \n",
    "\n",
    "### Ideas to improve the performance of the agent in future\n",
    "\n",
    "- We can use priority replay buffer. It might help in better performance.\n",
    "- In my network architecture dropout was not putting any effect. So if I change the network architecture then dropout might be useful there.\n",
    "- Adding Batch normalization might also help in better performance.\n",
    "- I tried my best to tune the huperparameters, but still I believe that by further tuning hyperparameters precisly, I can improve the performacnce. Same goes for neural network architecture.\n",
    "- Since this is a multi agent problem, I can try many other permutation and combination of the agents in order to achieve better results."
   ]
  },
  {
   "cell_type": "code",
   "execution_count": null,
   "metadata": {},
   "outputs": [],
   "source": []
  }
 ],
 "metadata": {
  "kernelspec": {
   "display_name": "Python 3",
   "language": "python",
   "name": "python3"
  },
  "language_info": {
   "codemirror_mode": {
    "name": "ipython",
    "version": 3
   },
   "file_extension": ".py",
   "mimetype": "text/x-python",
   "name": "python",
   "nbconvert_exporter": "python",
   "pygments_lexer": "ipython3",
   "version": "3.6.4"
  }
 },
 "nbformat": 4,
 "nbformat_minor": 1
}
